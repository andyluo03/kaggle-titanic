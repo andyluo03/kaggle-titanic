{
 "cells": [
  {
   "cell_type": "markdown",
   "metadata": {},
   "source": [
    "### Workspace Setup"
   ]
  },
  {
   "cell_type": "code",
   "execution_count": 22,
   "metadata": {},
   "outputs": [],
   "source": [
    "#Import Libraries + Setup\n",
    "import numpy as np\n",
    "import pandas as pd\n",
    "import tensorflow as tf\n",
    "from tensorflow.keras import layers\n",
    "\n",
    "np.set_printoptions(precision=3, suppress=True)"
   ]
  },
  {
   "cell_type": "markdown",
   "metadata": {},
   "source": [
    "### Loading/Structuring Data"
   ]
  },
  {
   "cell_type": "code",
   "execution_count": 23,
   "metadata": {},
   "outputs": [],
   "source": [
    "#Load dataset\n",
    "titanic_train = pd.read_csv(\"data/train.csv\", names=[\"PassengerId\",\"Survived\",\"Pclass\",\"Name\",\"Sex\",\"Age\",\"SibSp\",\"Parch\",\"Ticket\",\"Fare\",\"Cabin\",\"Embarked\"])\n",
    "\n",
    "#Features\n",
    "titanic_features = titanic_train.copy()\n",
    "\n",
    "#Remove the dependent variable\n",
    "titanic_features = titanic_features.pop(\"Survived\")"
   ]
  },
  {
   "cell_type": "markdown",
   "metadata": {},
   "source": [
    "### Preprocessing\n"
   ]
  },
  {
   "cell_type": "code",
   "execution_count": 32,
   "metadata": {},
   "outputs": [
    {
     "data": {
      "text/plain": [
       "{'Sex': <KerasTensor: shape=(None, 1) dtype=string (created by layer 'Sex')>,\n",
       " 'Age': <KerasTensor: shape=(None, 1) dtype=int32 (created by layer 'Age')>,\n",
       " 'Fare': <KerasTensor: shape=(None, 1) dtype=string (created by layer 'Fare')>}"
      ]
     },
     "execution_count": 32,
     "metadata": {},
     "output_type": "execute_result"
    }
   ],
   "source": [
    "# Because we have inputs of different types, we have to create a dict of inputs\n",
    "\n",
    "inputs = {}\n",
    "\n",
    "#INCLUDE INPUTS THAT ARE IMPORTANT\n",
    "\n",
    "inputs[\"Sex\"] = tf.keras.Input(shape=(1,), name=\"Sex\", dtype = tf.string)\n",
    "inputs[\"Age\"] = tf.keras.Input(shape=(1,), name=\"Age\", dtype = tf.int32)\n",
    "inputs[\"Fare\"] = tf.keras.Input(shape=(1,), name=\"Fare\", dtype = tf.string)\n",
    "\n",
    "inputs"
   ]
  }
 ],
 "metadata": {
  "interpreter": {
   "hash": "a7fc66fb686810296e220264f2afdbd677a9fde757119491709cdd2c3ffeeabf"
  },
  "kernelspec": {
   "display_name": "Python 3.8.7 ('env': venv)",
   "language": "python",
   "name": "python3"
  },
  "language_info": {
   "codemirror_mode": {
    "name": "ipython",
    "version": 3
   },
   "file_extension": ".py",
   "mimetype": "text/x-python",
   "name": "python",
   "nbconvert_exporter": "python",
   "pygments_lexer": "ipython3",
   "version": "3.8.7"
  },
  "orig_nbformat": 4
 },
 "nbformat": 4,
 "nbformat_minor": 2
}
